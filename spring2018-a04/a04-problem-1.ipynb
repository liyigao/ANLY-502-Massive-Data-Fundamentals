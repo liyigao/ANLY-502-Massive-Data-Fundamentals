{
 "cells": [
  {
   "cell_type": "markdown",
   "metadata": {},
   "source": [
    "# Problem 1 - Working with RDDs (5 points)\n",
    "\n",
    "This is an interactive PySpark session. Remember that when you open this notebook the `SparkContext` and `SparkSession` are already created, and they are in the `sc` and `spark` variables, respectively. You can run the following two cells to make sure that the Kernel is active.\n",
    "\n",
    "**Do not insert any additional cells than the ones that are provided.**"
   ]
  },
  {
   "cell_type": "code",
   "execution_count": 1,
   "metadata": {},
   "outputs": [
    {
     "data": {
      "text/html": [
       "\n",
       "        <div>\n",
       "            <p><b>SparkContext</b></p>\n",
       "\n",
       "            <p><a href=\"http://ip-172-31-65-198.ec2.internal:4040\">Spark UI</a></p>\n",
       "\n",
       "            <dl>\n",
       "              <dt>Version</dt>\n",
       "                <dd><code>v2.3.0</code></dd>\n",
       "              <dt>Master</dt>\n",
       "                <dd><code>yarn</code></dd>\n",
       "              <dt>AppName</dt>\n",
       "                <dd><code>PySparkShell</code></dd>\n",
       "            </dl>\n",
       "        </div>\n",
       "        "
      ],
      "text/plain": [
       "<SparkContext master=yarn appName=PySparkShell>"
      ]
     },
     "execution_count": 1,
     "metadata": {},
     "output_type": "execute_result"
    }
   ],
   "source": [
    "sc"
   ]
  },
  {
   "cell_type": "code",
   "execution_count": 2,
   "metadata": {},
   "outputs": [
    {
     "data": {
      "text/html": [
       "\n",
       "            <div>\n",
       "                <p><b>SparkSession - hive</b></p>\n",
       "                \n",
       "        <div>\n",
       "            <p><b>SparkContext</b></p>\n",
       "\n",
       "            <p><a href=\"http://ip-172-31-65-198.ec2.internal:4040\">Spark UI</a></p>\n",
       "\n",
       "            <dl>\n",
       "              <dt>Version</dt>\n",
       "                <dd><code>v2.3.0</code></dd>\n",
       "              <dt>Master</dt>\n",
       "                <dd><code>yarn</code></dd>\n",
       "              <dt>AppName</dt>\n",
       "                <dd><code>PySparkShell</code></dd>\n",
       "            </dl>\n",
       "        </div>\n",
       "        \n",
       "            </div>\n",
       "        "
      ],
      "text/plain": [
       "<pyspark.sql.session.SparkSession at 0x7fa7e8c50e50>"
      ]
     },
     "execution_count": 2,
     "metadata": {},
     "output_type": "execute_result"
    }
   ],
   "source": [
    "spark"
   ]
  },
  {
   "cell_type": "markdown",
   "metadata": {},
   "source": [
    "In the following cell, make an RDD called `top1m` that contains the contents of the file `top-1m.csv` that you placed into the cluster's HDFS."
   ]
  },
  {
   "cell_type": "code",
   "execution_count": 3,
   "metadata": {},
   "outputs": [],
   "source": [
    "top1m = sc.textFile(\"top-1m.csv\")"
   ]
  },
  {
   "cell_type": "markdown",
   "metadata": {},
   "source": [
    "There is one element in the RDD for each line in the file. The `.count()` method will compute how many lines are in the file. In the following cell, type the expression to count the lines in the `top1m` RDD. Run the cell and see the result."
   ]
  },
  {
   "cell_type": "code",
   "execution_count": 4,
   "metadata": {},
   "outputs": [
    {
     "data": {
      "text/plain": [
       "1000000"
      ]
     },
     "execution_count": 4,
     "metadata": {},
     "output_type": "execute_result"
    }
   ],
   "source": [
    "top1m.count()"
   ]
  },
  {
   "cell_type": "markdown",
   "metadata": {},
   "source": [
    "## Count the `.com` domains\n",
    "\n",
    "How many of the websites in this RDD are in the .com domain?\n",
    "\n",
    "In the following cell, write a code snippet that finds the records with `.com` and counts them. (Hint: use a regular expression.)"
   ]
  },
  {
   "cell_type": "code",
   "execution_count": 5,
   "metadata": {},
   "outputs": [
    {
     "data": {
      "text/plain": [
       "472404"
      ]
     },
     "execution_count": 5,
     "metadata": {},
     "output_type": "execute_result"
    }
   ],
   "source": [
    "import re\n",
    "com = top1m.filter(lambda record: re.search(\".com$\", record)).cache()\n",
    "com.count()"
   ]
  },
  {
   "cell_type": "markdown",
   "metadata": {},
   "source": [
    "## Histogram the Top Level Domains (TLDs)\n",
    "\n",
    "What is the distribution of TLDs in the top 1 million websites? We can quickly compute this using the RDD function `countByValue()`."
   ]
  },
  {
   "cell_type": "markdown",
   "metadata": {},
   "source": [
    "In the following cell, write a function called `tld` (in Python) that takes a domain name string and outputs the top-level domain."
   ]
  },
  {
   "cell_type": "code",
   "execution_count": 6,
   "metadata": {},
   "outputs": [],
   "source": [
    "def tld(record):\n",
    "    return record[record.rfind(\".\")+1:]"
   ]
  },
  {
   "cell_type": "markdown",
   "metadata": {},
   "source": [
    "In the following cell, map the `top1m` RDD using `tld` into a new RDD called `tlds`. "
   ]
  },
  {
   "cell_type": "code",
   "execution_count": 7,
   "metadata": {},
   "outputs": [],
   "source": [
    "tlds = top1m.map(lambda record: tld(record))"
   ]
  },
  {
   "cell_type": "markdown",
   "metadata": {},
   "source": [
    "In the following two cells, evaluate `top1m.first()` and  `tlds.first()` to see if the first line of `top1m` transformed by `tld` is properly represented as the first line of `tlds`. "
   ]
  },
  {
   "cell_type": "code",
   "execution_count": 8,
   "metadata": {},
   "outputs": [
    {
     "data": {
      "text/plain": [
       "u'1,google.com'"
      ]
     },
     "execution_count": 8,
     "metadata": {},
     "output_type": "execute_result"
    }
   ],
   "source": [
    "top1m.first()"
   ]
  },
  {
   "cell_type": "code",
   "execution_count": 9,
   "metadata": {},
   "outputs": [
    {
     "data": {
      "text/plain": [
       "u'com'"
      ]
     },
     "execution_count": 9,
     "metadata": {},
     "output_type": "execute_result"
    }
   ],
   "source": [
    "tlds.first()"
   ]
  },
  {
   "cell_type": "markdown",
   "metadata": {},
   "source": [
    "Look at the first 50 elements of `top1m` by evaluating `top1m.take(50)`."
   ]
  },
  {
   "cell_type": "code",
   "execution_count": 10,
   "metadata": {},
   "outputs": [
    {
     "data": {
      "text/plain": [
       "[u'1,google.com',\n",
       " u'2,youtube.com',\n",
       " u'3,facebook.com',\n",
       " u'4,baidu.com',\n",
       " u'5,wikipedia.org',\n",
       " u'6,yahoo.com',\n",
       " u'7,reddit.com',\n",
       " u'8,google.co.in',\n",
       " u'9,qq.com',\n",
       " u'10,taobao.com',\n",
       " u'11,amazon.com',\n",
       " u'12,twitter.com',\n",
       " u'13,tmall.com',\n",
       " u'14,live.com',\n",
       " u'15,instagram.com',\n",
       " u'16,vk.com',\n",
       " u'17,sohu.com',\n",
       " u'18,sina.com.cn',\n",
       " u'19,jd.com',\n",
       " u'20,weibo.com',\n",
       " u'21,360.cn',\n",
       " u'22,google.co.jp',\n",
       " u'23,yandex.ru',\n",
       " u'24,google.co.uk',\n",
       " u'25,google.com.br',\n",
       " u'26,google.de',\n",
       " u'27,google.fr',\n",
       " u'28,google.ru',\n",
       " u'29,linkedin.com',\n",
       " u'30,login.tmall.com',\n",
       " u'31,google.com.hk',\n",
       " u'32,netflix.com',\n",
       " u'33,google.it',\n",
       " u'34,pornhub.com',\n",
       " u'35,twitch.tv',\n",
       " u'36,google.es',\n",
       " u'37,microsoft.com',\n",
       " u'38,yahoo.co.jp',\n",
       " u'39,office.com',\n",
       " u'40,google.com.mx',\n",
       " u'41,alipay.com',\n",
       " u'42,t.co',\n",
       " u'43,google.ca',\n",
       " u'44,xvideos.com',\n",
       " u'45,microsoftonline.com',\n",
       " u'46,ebay.com',\n",
       " u'47,csdn.net',\n",
       " u'48,bing.com',\n",
       " u'49,mail.ru',\n",
       " u'50,ok.ru']"
      ]
     },
     "execution_count": 10,
     "metadata": {},
     "output_type": "execute_result"
    }
   ],
   "source": [
    "top1m.take(50)"
   ]
  },
  {
   "cell_type": "markdown",
   "metadata": {},
   "source": [
    "Try the same thing with the `tlds` RDD to make sure that the first 50 lines were properly transformed.\n"
   ]
  },
  {
   "cell_type": "code",
   "execution_count": 11,
   "metadata": {},
   "outputs": [
    {
     "data": {
      "text/plain": [
       "[u'com',\n",
       " u'com',\n",
       " u'com',\n",
       " u'com',\n",
       " u'org',\n",
       " u'com',\n",
       " u'com',\n",
       " u'in',\n",
       " u'com',\n",
       " u'com',\n",
       " u'com',\n",
       " u'com',\n",
       " u'com',\n",
       " u'com',\n",
       " u'com',\n",
       " u'com',\n",
       " u'com',\n",
       " u'cn',\n",
       " u'com',\n",
       " u'com',\n",
       " u'cn',\n",
       " u'jp',\n",
       " u'ru',\n",
       " u'uk',\n",
       " u'br',\n",
       " u'de',\n",
       " u'fr',\n",
       " u'ru',\n",
       " u'com',\n",
       " u'com',\n",
       " u'hk',\n",
       " u'com',\n",
       " u'it',\n",
       " u'com',\n",
       " u'tv',\n",
       " u'es',\n",
       " u'com',\n",
       " u'jp',\n",
       " u'com',\n",
       " u'mx',\n",
       " u'com',\n",
       " u'co',\n",
       " u'ca',\n",
       " u'com',\n",
       " u'com',\n",
       " u'com',\n",
       " u'net',\n",
       " u'com',\n",
       " u'ru',\n",
       " u'ru']"
      ]
     },
     "execution_count": 11,
     "metadata": {},
     "output_type": "execute_result"
    }
   ],
   "source": [
    "tlds.take(50)"
   ]
  },
  {
   "cell_type": "markdown",
   "metadata": {},
   "source": [
    "At this point, `tlds.countByValue()` would give us a list of each TLD and the number of times that it appears in the top1m file. Note that this function returns the results as a `defaultDict` in the Python environemnt, not as an RDD. But we want it reverse sorted by count. To do this, we can set a variable called `tlds_and_counts` equal to `tlds.countByValue()` and then reverse the order, sort, and take the top 50, like this:\n",
    "\n",
    "```\n",
    "tlds_and_counts = tlds.countByValue()\n",
    "counts_and_tlds = [(count,domain) for (domain,count) in tlds_and_counts.items()]\n",
    "```\n",
    "\n",
    "In the following cell, run the code above to produce the Python Dictionary."
   ]
  },
  {
   "cell_type": "code",
   "execution_count": 12,
   "metadata": {},
   "outputs": [],
   "source": [
    "tlds_and_counts = tlds.countByValue()\n",
    "counts_and_tlds = [(count,domain) for (domain,count) in tlds_and_counts.items()]"
   ]
  },
  {
   "cell_type": "markdown",
   "metadata": {},
   "source": [
    "In the following cell, reverse sort `counts_and_tlds` and display the first 50."
   ]
  },
  {
   "cell_type": "code",
   "execution_count": 13,
   "metadata": {},
   "outputs": [
    {
     "data": {
      "text/plain": [
       "[(472404, u'com'),\n",
       " (50227, u'org'),\n",
       " (42003, u'net'),\n",
       " (41748, u'ru'),\n",
       " (41366, u'de'),\n",
       " (23915, u'uk'),\n",
       " (18824, u'br'),\n",
       " (16802, u'it'),\n",
       " (15659, u'ir'),\n",
       " (13422, u'fr'),\n",
       " (12391, u'pl'),\n",
       " (11272, u'es'),\n",
       " (10709, u'in'),\n",
       " (9275, u'au'),\n",
       " (8699, u'jp'),\n",
       " (8373, u'info'),\n",
       " (6340, u'nl'),\n",
       " (6062, u'cz'),\n",
       " (6049, u'co'),\n",
       " (5797, u'ua'),\n",
       " (5701, u'cn'),\n",
       " (5398, u'tw'),\n",
       " (5263, u'io'),\n",
       " (5218, u'eu'),\n",
       " (5182, u'ca'),\n",
       " (5134, u'ch'),\n",
       " (4954, u'kr'),\n",
       " (4723, u'mx'),\n",
       " (4303, u'at'),\n",
       " (4184, u'gr'),\n",
       " (4009, u'se'),\n",
       " (4005, u'be'),\n",
       " (3588, u'us'),\n",
       " (3536, u'me'),\n",
       " (3414, u'tv'),\n",
       " (3277, u'ar'),\n",
       " (3167, u'sk'),\n",
       " (3141, u'no'),\n",
       " (3068, u'edu'),\n",
       " (3063, u'hu'),\n",
       " (3006, u'za'),\n",
       " (2984, u'ro'),\n",
       " (2846, u'id'),\n",
       " (2821, u'fi'),\n",
       " (2758, u'dk'),\n",
       " (2719, u'vn'),\n",
       " (2633, u'tr'),\n",
       " (2350, u'biz'),\n",
       " (2156, u'cl'),\n",
       " (2135, u'pt')]"
      ]
     },
     "execution_count": 13,
     "metadata": {},
     "output_type": "execute_result"
    }
   ],
   "source": [
    "counts_and_tlds.sort(reverse = True)\n",
    "counts_and_tlds[:50]"
   ]
  },
  {
   "cell_type": "markdown",
   "metadata": {},
   "source": [
    "**Question:** `top1m.collect()[0:50]` and `top1m.take(50)` produce the same result. Which one is more efficient and why? Put your answer in the cell below."
   ]
  },
  {
   "cell_type": "code",
   "execution_count": null,
   "metadata": {},
   "outputs": [],
   "source": [
    "## .collect()[0:50] converts entire RDD to an array, and then print first 50 lines\n",
    "## But .take(50) calls first 50 lines in RDD. It saves time of conversion."
   ]
  },
  {
   "cell_type": "markdown",
   "metadata": {},
   "source": [
    "When you finish this problem, click on the File -> 'Save and Checkpoint' in the menu bar to make sure that the latest version of the workbook file is saved. Also, before you close this notebook and move on, make sure you disconnect your SparkContext, otherwise you will not be able to re-allocate resources. Remember, you will commit the .ipynb file to the repository for submission (in the master node terminal.)"
   ]
  },
  {
   "cell_type": "code",
   "execution_count": 14,
   "metadata": {},
   "outputs": [],
   "source": [
    "sc.stop()"
   ]
  }
 ],
 "metadata": {
  "kernelspec": {
   "display_name": "Python 2",
   "language": "python",
   "name": "python2"
  },
  "language_info": {
   "codemirror_mode": {
    "name": "ipython",
    "version": 2
   },
   "file_extension": ".py",
   "mimetype": "text/x-python",
   "name": "python",
   "nbconvert_exporter": "python",
   "pygments_lexer": "ipython2",
   "version": "2.7.13"
  }
 },
 "nbformat": 4,
 "nbformat_minor": 2
}
